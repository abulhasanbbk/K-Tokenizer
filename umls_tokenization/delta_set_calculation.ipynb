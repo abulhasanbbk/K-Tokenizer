{
 "cells": [
  {
   "cell_type": "code",
   "execution_count": 23,
   "id": "3c2496c5",
   "metadata": {},
   "outputs": [],
   "source": [
    "import json\n",
    "import math\n",
    "\n",
    "def calculate_entropy(probs):\n",
    "    \"\"\"Entropy calculation for a set of probabilities\n",
    "    \"\"\"\n",
    "    h=0\n",
    "    for p_i in probs:\n",
    "        h+=p_i*math.log(p_i)\n",
    "    return -h\n",
    "\n",
    "def calculate_prob(voc_dict):\n",
    "    \"\"\"Caclulate the probabilities for given vocabulary with frequency\n",
    "    \"\"\"\n",
    "    probs=[]\n",
    "    tf=0\n",
    "    #calculate total probability\n",
    "    for key in voc_dict:\n",
    "        tf+=voc_dict[key]\n",
    "    #populate probability list for the given vocabulary\n",
    "    for key in voc_dict:\n",
    "        p_i=voc_dict[key]/tf\n",
    "        probs.append(p_i)\n",
    "    return probs\n",
    "    "
   ]
  },
  {
   "cell_type": "code",
   "execution_count": 24,
   "id": "2db39e50",
   "metadata": {},
   "outputs": [
    {
     "name": "stdout",
     "output_type": "stream",
     "text": [
      "23407\n"
     ]
    }
   ],
   "source": [
    "drug_voc=\"drug_bpe_from_umls_20_.json\"\n",
    "with open(drug_voc, \"rb\") as f:\n",
    "    drug_voc= json.load(f)\n",
    "print(len(drug_voc))"
   ]
  },
  {
   "cell_type": "code",
   "execution_count": 35,
   "id": "02eb06f3",
   "metadata": {},
   "outputs": [
    {
     "name": "stdout",
     "output_type": "stream",
     "text": [
      "4.805203997487647e-08\n"
     ]
    }
   ],
   "source": [
    "probs=calculate_prob(drug_voc)\n",
    "print(min(probs))"
   ]
  },
  {
   "cell_type": "code",
   "execution_count": 28,
   "id": "f2a83869",
   "metadata": {},
   "outputs": [
    {
     "name": "stdout",
     "output_type": "stream",
     "text": [
      "6.924002930988403\n"
     ]
    }
   ],
   "source": [
    "H_X=calculate_entropy(probs)\n",
    "print(H_X)"
   ]
  },
  {
   "cell_type": "code",
   "execution_count": 68,
   "id": "845828c3",
   "metadata": {},
   "outputs": [],
   "source": [
    "def calculate_sufficient_delta_set(probs):\n",
    "    \"\"\"Calculating sufficient delta set following David McKays book\n",
    "    \"\"\"\n",
    "    p_delta=[]\n",
    "    H=[]\n",
    "    l=[]\n",
    "    mn=min(probs) #Find the minimum probability\n",
    "    probs.sort(reverse=True)\n",
    "    for i in range(0,10): #Finding entropies for sets setting thresholds for minimum probability+ 0.1+e06\n",
    "        mn=mn+0.000001\n",
    "        delta_set = [p for p in probs if p > mn]\n",
    "        print(len(delta_set))\n",
    "        h=calculate_entropy(delta_set)\n",
    "        p_delta.append(mn)\n",
    "        H.append(h)\n",
    "        l.append(len(delta_set))\n",
    "    return p_delta, H, l"
   ]
  },
  {
   "cell_type": "code",
   "execution_count": 69,
   "id": "fb46936b",
   "metadata": {},
   "outputs": [
    {
     "name": "stdout",
     "output_type": "stream",
     "text": [
      "15672\n",
      "13040\n",
      "11341\n",
      "10070\n",
      "9075\n",
      "8343\n",
      "7717\n",
      "7214\n",
      "6725\n",
      "6302\n"
     ]
    }
   ],
   "source": [
    "#print(probs)\n",
    "lambda_values, entropies, l=calculate_sufficient_delta_set(probs)"
   ]
  },
  {
   "cell_type": "code",
   "execution_count": 81,
   "id": "0c450708",
   "metadata": {},
   "outputs": [
    {
     "name": "stderr",
     "output_type": "stream",
     "text": [
      "No artists with labels found to put in legend.  Note that artists whose label start with an underscore are ignored when legend() is called with no argument.\n"
     ]
    },
    {
     "data": {
      "image/png": "[encoded data removed]",
      "text/plain": [
       "<Figure size 500x500 with 1 Axes>"
      ]
     },
     "metadata": {},
     "output_type": "display_data"
    }
   ],
   "source": [
    "import matplotlib.pyplot as plt\n",
    "\n",
    "# Example data (replace these with your lists)\n",
    "#entropies = [0.1, 0.5, 0.3, 0.7, 0.9]\n",
    "#lambda_values = [0.2, 0.4, 0.6, 0.8, 1.0]\n",
    "\n",
    "# Sorting the data based on lambda values\n",
    "sorted_data = sorted(zip(lambda_values, entropies,l))\n",
    "\n",
    "# Extracting sorted lambda and entropy values\n",
    "lambda_values, entropies, num_elements = zip(*sorted_data)\n",
    "\n",
    "# Plotting the L-shaped line segments\n",
    "#plt.figure(figsize=(8, 6),facecolor='lightblue')\n",
    "fig, ax = plt.subplots(figsize=(5, 5))\n",
    "# Set the background color of the plot area (inside the figure)\n",
    "#ax.set_facecolor('lightblue')\n",
    "for i in range(len(entropies) - 1):\n",
    "    plt.plot([lambda_values[i], lambda_values[i+1]], [entropies[i], entropies[i]], 'k-')\n",
    "    plt.plot([lambda_values[i+1], lambda_values[i+1]], [entropies[i], entropies[i+1]], 'k-')\n",
    "\n",
    "plt.scatter(lambda_values, entropies, color='black', zorder=5)\n",
    "#plt.xlabel(r'$\\delta$')\n",
    "#plt.ylabel('H(X)')\n",
    "#plt.title('H(X) vs $\\delta$')\n",
    "for i, txt in enumerate(num_elements):\n",
    "    plt.annotate(f'n={txt}', (lambda_values[i], entropies[i]), textcoords=\"offset points\", xytext=(5, 5), ha='left')\n",
    "plt.legend()\n",
    "plt.annotate('$\\delta$', xy=(1, 0), ha='left', va='top', xycoords='axes fraction', fontsize=12)\n",
    "plt.annotate('$H(X)$', xy=(-.13, 1), xytext=(-15,2), ha='left', va='top', xycoords='axes fraction', textcoords='offset points', fontsize=12)\n",
    "#plt.grid(True)\n",
    "plt.show()"
   ]
  },
  {
   "cell_type": "code",
   "execution_count": 82,
   "id": "b3fc4508",
   "metadata": {},
   "outputs": [
    {
     "name": "stdout",
     "output_type": "stream",
     "text": [
      "12322\n"
     ]
    }
   ],
   "source": [
    "symptom_voc=\"symptom_bpe_from_umls_20_.json\"\n",
    "with open(symptom_voc, \"rb\") as f:\n",
    "    symptom_voc= json.load(f)\n",
    "print(len(symptom_voc))"
   ]
  },
  {
   "cell_type": "code",
   "execution_count": 83,
   "id": "7e3d3220",
   "metadata": {},
   "outputs": [
    {
     "name": "stdout",
     "output_type": "stream",
     "text": [
      "1.6301791811446955e-07\n"
     ]
    }
   ],
   "source": [
    "probs=calculate_prob(symptom_voc)\n",
    "print(min(probs))"
   ]
  },
  {
   "cell_type": "code",
   "execution_count": 84,
   "id": "429be1ef",
   "metadata": {},
   "outputs": [
    {
     "name": "stdout",
     "output_type": "stream",
     "text": [
      "6.699376871415856\n"
     ]
    }
   ],
   "source": [
    "H_X=calculate_entropy(probs)\n",
    "print(H_X)"
   ]
  },
  {
   "cell_type": "code",
   "execution_count": 85,
   "id": "6b11a1ec",
   "metadata": {},
   "outputs": [
    {
     "name": "stdout",
     "output_type": "stream",
     "text": [
      "10143\n",
      "8964\n",
      "8194\n",
      "7593\n",
      "7116\n",
      "6690\n",
      "6342\n",
      "5978\n",
      "5677\n",
      "5427\n"
     ]
    }
   ],
   "source": [
    "lambda_values, entropies, l=calculate_sufficient_delta_set(probs)"
   ]
  },
  {
   "cell_type": "code",
   "execution_count": 86,
   "id": "3882d4f0",
   "metadata": {},
   "outputs": [
    {
     "name": "stderr",
     "output_type": "stream",
     "text": [
      "No artists with labels found to put in legend.  Note that artists whose label start with an underscore are ignored when legend() is called with no argument.\n"
     ]
    },
    {
     "data": {
      "image/png": "[encoded data removed]",
      "text/plain": [
       "<Figure size 500x500 with 1 Axes>"
      ]
     },
     "metadata": {},
     "output_type": "display_data"
    }
   ],
   "source": [
    "import matplotlib.pyplot as plt\n",
    "\n",
    "# Example data (replace these with your lists)\n",
    "#entropies = [0.1, 0.5, 0.3, 0.7, 0.9]\n",
    "#lambda_values = [0.2, 0.4, 0.6, 0.8, 1.0]\n",
    "\n",
    "# Sorting the data based on lambda values\n",
    "sorted_data = sorted(zip(lambda_values, entropies,l))\n",
    "\n",
    "# Extracting sorted lambda and entropy values\n",
    "lambda_values, entropies, num_elements = zip(*sorted_data)\n",
    "\n",
    "# Plotting the L-shaped line segments\n",
    "#plt.figure(figsize=(8, 6),facecolor='lightblue')\n",
    "fig, ax = plt.subplots(figsize=(5, 5))\n",
    "# Set the background color of the plot area (inside the figure)\n",
    "#ax.set_facecolor('lightblue')\n",
    "for i in range(len(entropies) - 1):\n",
    "    plt.plot([lambda_values[i], lambda_values[i+1]], [entropies[i], entropies[i]], 'k-')\n",
    "    plt.plot([lambda_values[i+1], lambda_values[i+1]], [entropies[i], entropies[i+1]], 'k-')\n",
    "\n",
    "plt.scatter(lambda_values, entropies, color='black', zorder=5)\n",
    "#plt.xlabel(r'$\\delta$')\n",
    "#plt.ylabel('H(X)')\n",
    "#plt.title('H(X) vs $\\delta$')\n",
    "for i, txt in enumerate(num_elements):\n",
    "    plt.annotate(f'n={txt}', (lambda_values[i], entropies[i]), textcoords=\"offset points\", xytext=(5, 5), ha='left')\n",
    "plt.legend()\n",
    "plt.annotate('$\\delta$', xy=(1, 0), ha='left', va='top', xycoords='axes fraction', fontsize=12)\n",
    "plt.annotate('$H(X)$', xy=(-.13, 1), xytext=(-15,2), ha='left', va='top', xycoords='axes fraction', textcoords='offset points', fontsize=12)\n",
    "#plt.grid(True)\n",
    "plt.show()"
   ]
  },
  {
   "cell_type": "code",
   "execution_count": null,
   "id": "d4217f11",
   "metadata": {},
   "outputs": [],
   "source": []
  }
 ],
 "metadata": {
  "kernelspec": {
   "display_name": "Python 3 (ipykernel)",
   "language": "python",
   "name": "python3"
  },
  "language_info": {
   "codemirror_mode": {
    "name": "ipython",
    "version": 3
   },
   "file_extension": ".py",
   "mimetype": "text/x-python",
   "name": "python",
   "nbconvert_exporter": "python",
   "pygments_lexer": "ipython3",
   "version": "3.9.13"
  }
 },
 "nbformat": 4,
 "nbformat_minor": 5
}
